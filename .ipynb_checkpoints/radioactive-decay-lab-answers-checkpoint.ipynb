{
 "cells": [
  {
   "cell_type": "markdown",
   "metadata": {},
   "source": [
    "# Modelling Radioactive Decay Using Python 3\n",
    "### Written by Inigo Val\n",
    "\n",
    "In this lab, we will be using the programming language Python 3 to create a model simulating the radioactive decay of a number of particles over time.\n",
    "\n",
    "In order to complete this lab you should be comfortable with exponential decay and half lives. You must have come across vectors and matrices before (although no in depth knowledge is required). __No previous programming knowledge is required__. This excercise aims to be self contained so you should be able to jump right in without any prior reading. You are however encouraged to use google as you go through the excercises to help you understand/find syntax. \n",
    "\n",
    "We will mainly be using the [NumPy](http://www.numpy.org/) _package_ which provides a powerful framework for numerical computations in Python.\n",
    "\n",
    "All excercises _without_ asterisks should be completed; tasks _with_ asterisks are extensions and are usually more exploratory. These can be omitted until you have finished all other tasks."
   ]
  },
  {
   "cell_type": "markdown",
   "metadata": {},
   "source": [
    "## Beginner Programming in Python"
   ]
  },
  {
   "cell_type": "markdown",
   "metadata": {},
   "source": [
    "First we need to tell the computer to load NumPy so that we can use it in our code.\n",
    "\n",
    "In order to run the import code (or any code in a given _cell_), select the cell by clicking on it. Hold shift and press enter. __If you get an error, you haven't installed NumPy correctly.__\n",
    "\n",
    "The second part of the import ('as np') simply saves us time by allowing us to type 'np' instead of 'numpy' every time we wish to use something from the NumPy package."
   ]
  },
  {
   "cell_type": "code",
   "execution_count": 7,
   "metadata": {},
   "outputs": [],
   "source": [
    "# This is a comment. It is NOT executed by the computer and is there to annotate the code, making it easier to read.\n",
    "# Commenting is encouraged and will help you and other people understand your code. Comments are denoted by beginning\n",
    "# the line with a hash (#)."
   ]
  },
  {
   "cell_type": "markdown",
   "metadata": {},
   "source": [
    "First we need to tell the computer to load NumPy so that we can use it in our code.\n",
    "\n",
    "In order to run the import code (or any code in a given _cell_), select the cell by clicking on it. Hold shift and press enter. If you get an error, you haven't installed NumPy correctly.\n",
    "\n",
    "The second part of the import ('as np') simply saves us time by allowing us to type 'np' instead of 'numpy' every time we wish to use something from the NumPy package."
   ]
  },
  {
   "cell_type": "code",
   "execution_count": 8,
   "metadata": {},
   "outputs": [],
   "source": [
    "import numpy as np"
   ]
  },
  {
   "cell_type": "markdown",
   "metadata": {},
   "source": [
    "The print function is a fundamental part of Python and it prints an object to the console."
   ]
  },
  {
   "cell_type": "code",
   "execution_count": 9,
   "metadata": {},
   "outputs": [
    {
     "name": "stdout",
     "output_type": "stream",
     "text": [
      "3\n"
     ]
    }
   ],
   "source": [
    "print(3)"
   ]
  },
  {
   "cell_type": "markdown",
   "metadata": {},
   "source": [
    "You can also print multiple things on the same line"
   ]
  },
  {
   "cell_type": "code",
   "execution_count": 10,
   "metadata": {},
   "outputs": [
    {
     "name": "stdout",
     "output_type": "stream",
     "text": [
      "3 5 6 7\n"
     ]
    }
   ],
   "source": [
    "print(3, 5, 6, 7)"
   ]
  },
  {
   "cell_type": "markdown",
   "metadata": {},
   "source": [
    "Words need to be given to the print function as a ```string``` by wrapping them in apostrophes like this:"
   ]
  },
  {
   "cell_type": "code",
   "execution_count": 11,
   "metadata": {},
   "outputs": [
    {
     "name": "stdout",
     "output_type": "stream",
     "text": [
      "this is a string\n"
     ]
    }
   ],
   "source": [
    "print('this is a string')"
   ]
  },
  {
   "cell_type": "markdown",
   "metadata": {},
   "source": [
    "Print the following things:\n",
    "\n",
    "* supersymmetry\n",
    "* quarks leptons 4523"
   ]
  },
  {
   "cell_type": "code",
   "execution_count": 12,
   "metadata": {},
   "outputs": [
    {
     "name": "stdout",
     "output_type": "stream",
     "text": [
      "supersymmetry\n",
      "quarks leptons 11235813\n"
     ]
    }
   ],
   "source": [
    "print('supersymmetry')\n",
    "print('quarks', 'leptons', 11235813)"
   ]
  },
  {
   "cell_type": "markdown",
   "metadata": {},
   "source": [
    "Basic mathematical operations do not require NumPy. A table of symbols follows: <br/>\n",
    "\n",
    "multiply         ```*```   <br/>\n",
    "divide           ```/```   <br/>\n",
    "add              ```+```    <br/>\n",
    "subtract         ```-```    <br/>\n",
    "to the power of  ```**``` <br/>\n",
    "\n",
    "Brackets work as normal.\n",
    "\n",
    "Use this information to print :\n",
    "* Square root of 2\n",
    "* Radius of a circle of perimeter 5 (use any reasonable estimate for pi)\n",
    "* Sum of the first 5 numbers in the Fibonacci sequence"
   ]
  },
  {
   "cell_type": "code",
   "execution_count": 13,
   "metadata": {},
   "outputs": [
    {
     "name": "stdout",
     "output_type": "stream",
     "text": [
      "1.4142135623730951\n",
      "0.7961783439490445\n",
      "12\n"
     ]
    }
   ],
   "source": [
    "print(2**0.5)\n",
    "print(5/(2*3.14))\n",
    "print(1+1+2+3+5)"
   ]
  },
  {
   "cell_type": "markdown",
   "metadata": {},
   "source": [
    "## Using NumPy"
   ]
  },
  {
   "cell_type": "markdown",
   "metadata": {},
   "source": [
    "Single numbers are not hugely useful. Numpy uses vectors and matrices to carry out computations on lots of numbers at once. A single number is simply a 1x1 vector. In NumPy, all 3 of these are grouped together and called _arrays_. The words array/vector/matrix will all be used interchangeably depending on context to aid your understanding."
   ]
  },
  {
   "cell_type": "markdown",
   "metadata": {},
   "source": [
    "### Indexing\n",
    "\n",
    "The simplest way of creating an array is by just typing it out. You can use any _element_ of the vector by using the _index_ of the element. __Indices always start at 0 not 1!__."
   ]
  },
  {
   "cell_type": "code",
   "execution_count": 25,
   "metadata": {},
   "outputs": [
    {
     "name": "stdout",
     "output_type": "stream",
     "text": [
      "2\n",
      "10\n"
     ]
    }
   ],
   "source": [
    "# Creating a 3D vector \n",
    "vector = np.array([10, 2, 5])\n",
    "\n",
    "# Printing the 2nd element of the vector\n",
    "index = 0\n",
    "element = vector[index] # REMEMBER TO USE SQUARE BRACKETS!\n",
    "print(element) # print the second element int the vector (2)"
   ]
  },
  {
   "cell_type": "markdown",
   "metadata": {},
   "source": [
    "Create a vector with the first 7 numbers of the Fibonacci sequence. Using indexing and mathematical operations, print the following values:\n",
    "\n",
    "* 8 in two different ways\n",
    "* 26\n",
    "* 40\n",
    "* 0.6666666666666666"
   ]
  },
  {
   "cell_type": "code",
   "execution_count": 28,
   "metadata": {
    "scrolled": true
   },
   "outputs": [
    {
     "name": "stdout",
     "output_type": "stream",
     "text": [
      "8\n",
      "8\n",
      "26\n",
      "40\n",
      "0.6666666666666666\n"
     ]
    }
   ],
   "source": [
    "fibonacci = np.array([1,1,2,3,5,8,13])\n",
    "\n",
    "print(fibonacci[5])\n",
    "print(fibonacci[3] + fibonacci[4])\n",
    "print(fibonacci[6]*fibonacci[2])\n",
    "print(fibonacci[5]*fibonacci[4])\n",
    "print(fibonacci[2]/fibonacci[3])"
   ]
  },
  {
   "cell_type": "markdown",
   "metadata": {},
   "source": [
    "You can also reassign the value of an element by using indexing:"
   ]
  },
  {
   "cell_type": "code",
   "execution_count": 46,
   "metadata": {},
   "outputs": [
    {
     "name": "stdout",
     "output_type": "stream",
     "text": [
      "2\n",
      "100\n"
     ]
    }
   ],
   "source": [
    "print(vector[1])\n",
    "vector[1] = 100\n",
    "print(vector[1])"
   ]
  },
  {
   "cell_type": "markdown",
   "metadata": {},
   "source": [
    "Reassign the last element of the ```fibonacci``` vector to 50 and then print it to make sure you've done it correctly."
   ]
  },
  {
   "cell_type": "code",
   "execution_count": 47,
   "metadata": {},
   "outputs": [
    {
     "name": "stdout",
     "output_type": "stream",
     "text": [
      "50\n"
     ]
    }
   ],
   "source": [
    "fibonacci[6] = 50\n",
    "print(fibonacci[6])"
   ]
  },
  {
   "cell_type": "markdown",
   "metadata": {},
   "source": [
    "### Generating Arrays"
   ]
  },
  {
   "cell_type": "markdown",
   "metadata": {},
   "source": [
    "There are many, many functions in NumPy so you can (mostly) avoid manually typing out arrays. For example the arange function creates an ascending vector up to the specified __index__ (remember this starts at 0!)."
   ]
  },
  {
   "cell_type": "code",
   "execution_count": 37,
   "metadata": {},
   "outputs": [
    {
     "name": "stdout",
     "output_type": "stream",
     "text": [
      "[0 1 2 3 4 5 6 7 8 9]\n"
     ]
    }
   ],
   "source": [
    "vector_2 = np.arange(10)\n",
    "print(vector_2)"
   ]
  },
  {
   "cell_type": "markdown",
   "metadata": {},
   "source": [
    "np.random.rand(n,m) is another very useful function. It creates an array of numbers randomised between 0 and 1. The array is size nxm (so if m>1 it will be a matrix). If you only want a vector you don't have to specify the second dimension as being 1."
   ]
  },
  {
   "cell_type": "code",
   "execution_count": 38,
   "metadata": {},
   "outputs": [
    {
     "name": "stdout",
     "output_type": "stream",
     "text": [
      "[0.31261363 0.61339985 0.96407195 0.73106233 0.59043804]\n"
     ]
    }
   ],
   "source": [
    "print(np.random.rand(5))"
   ]
  },
  {
   "cell_type": "markdown",
   "metadata": {},
   "source": [
    "Arrays are, by default, multiplied together __element-wise__ unlike in conventional mathematics. Every number in the 1st matrix is multiplied by the number occupying the same position in the 2nd matrix. Division works in the same way. This means the shape of both arrays _must_ be the same. You can use the same operators as usual (* and /).\n",
    "\n",
    "Numpy also has functions that can do various other operations (dot product, cross product, regular matrix multiplication etc.) but we will not require these.\n",
    "\n",
    "* Create a random matrix with 3 columns and 5 rows\n",
    "* Multiply it by another random matrix (with different values) and print the result\n",
    "* What is the maximum possible value any element in the resulting matrix can have and why? Is this a likely result?\n",
    "* *Calculate the likelihood of this occuring in the given case. You may give your answer in indice form."
   ]
  },
  {
   "cell_type": "code",
   "execution_count": 39,
   "metadata": {},
   "outputs": [
    {
     "name": "stdout",
     "output_type": "stream",
     "text": [
      "[[0.00176276 0.0743811  0.03292264 0.35115747 0.30215872]\n",
      " [0.42491271 0.36768336 0.83561993 0.41120898 0.17713738]\n",
      " [0.67969616 0.15028335 0.27731488 0.30761631 0.07699957]]\n"
     ]
    }
   ],
   "source": [
    "matrix_1 = np.random.rand(3,5)\n",
    "matrix_2 = np.random.rand(3,5)\n",
    "matrix_3 = matrix_2*matrix_1\n",
    "\n",
    "print(matrix_3)"
   ]
  },
  {
   "cell_type": "markdown",
   "metadata": {},
   "source": [
    "Maximum value any element can have is 1, in the case that the random number generated both times in that element is 1. This is very unlikely.\n",
    "\n",
    "$$ \\frac{1}{10^8} \\times \\frac{1}{10^8} \\times 16 = 1.6 \\times 10^{-15}$$"
   ]
  },
  {
   "cell_type": "markdown",
   "metadata": {},
   "source": [
    "* Create an ascending vector of length 9 and a vector of random numbers length 6.\n",
    "\n",
    "* Try to add the two matrices together. Why does python throw an error?\n",
    "\n",
    "* Change one of the vectors so that the addition can work."
   ]
  },
  {
   "cell_type": "code",
   "execution_count": 29,
   "metadata": {},
   "outputs": [
    {
     "data": {
      "text/plain": [
       "array([0.69417903, 1.48454489, 2.11281415, 3.86154982, 4.62706508,\n",
       "       5.23727453])"
      ]
     },
     "execution_count": 29,
     "metadata": {},
     "output_type": "execute_result"
    }
   ],
   "source": [
    "vector_1 = np.arange(6)\n",
    "vector_2 = np.random.rand(6)\n",
    "\n",
    "vector_1 + vector_2"
   ]
  },
  {
   "cell_type": "markdown",
   "metadata": {},
   "source": [
    "## Further Programming in Python"
   ]
  },
  {
   "cell_type": "markdown",
   "metadata": {},
   "source": [
    "### If Statements"
   ]
  },
  {
   "cell_type": "markdown",
   "metadata": {},
   "source": [
    "'If' statements in Python are similar to how we use them in natural language. The basic framework goes as follows:\n",
    "\n",
    "if X is a true statement then do Y\n",
    "\n",
    "However, when we are coding, instead of using words we use symbols: <br/>\n",
    "equal to       ```==``` <br/>\n",
    "not equal to   ```!=``` <br/>\n",
    "less than      ```<``` <br/>\n",
    "more than      ```>``` <br/>\n",
    "\n",
    "These symboles evaluate the given statement and return ```True``` or ```False```.\n",
    "\n",
    "We also need to include a colon after our if statement and indent the next line, so that the program knows where the if statement begins and ends."
   ]
  },
  {
   "cell_type": "code",
   "execution_count": 40,
   "metadata": {},
   "outputs": [
    {
     "name": "stdout",
     "output_type": "stream",
     "text": [
      "False\n",
      "True\n",
      "5 is greater than 0\n"
     ]
    }
   ],
   "source": [
    "print(5 < 3)\n",
    "print(5==5) # NOTE THE DOUBLE EQUALS SIGN!\n",
    "\n",
    "if 5>0:\n",
    "    print('5 is greater than 0')"
   ]
  },
  {
   "cell_type": "markdown",
   "metadata": {},
   "source": [
    "* Assign a number to a variable ```n```.\n",
    "\n",
    "* Write an if statement that prints ```yes``` if the square of n is greater than 16. Run this a few times, changing the value of n and check that the program works as you expect"
   ]
  },
  {
   "cell_type": "code",
   "execution_count": 30,
   "metadata": {},
   "outputs": [],
   "source": [
    "n = 1\n",
    "\n",
    "if n**2 > 16:\n",
    "    print('yes')"
   ]
  },
  {
   "cell_type": "markdown",
   "metadata": {},
   "source": [
    "* Write an if statement that has a 50% chance of printing the square of ```n```. _Hint: Use a randomly generated number in your if statement_.\n",
    "\n",
    "* Run this multiple times to check it works."
   ]
  },
  {
   "cell_type": "code",
   "execution_count": 45,
   "metadata": {},
   "outputs": [],
   "source": [
    "if np.random.rand(1) < 0.5:\n",
    "    print(n**2)"
   ]
  },
  {
   "cell_type": "markdown",
   "metadata": {},
   "source": [
    "### For Loops"
   ]
  },
  {
   "cell_type": "markdown",
   "metadata": {},
   "source": [
    "#### Basic Looping\n",
    "\n",
    "The last key ingredient of programming in any language is the for loop. It allows us to run a segment of code an arbitrary number of times (most of the time on different inputs). The power of this iterative way of approaching a problem is the often the reason we turn to a computer in the first place. The framework is as follows:\n",
    "\n",
    "for x in X\n",
    "do y to x\n",
    "\n",
    "where x (scalar) is an element of X (a vector) and y is some action on x\n",
    "\n",
    "This will be much clearer with an example. In the example below, the ```print``` function is the action y."
   ]
  },
  {
   "cell_type": "code",
   "execution_count": 41,
   "metadata": {},
   "outputs": [
    {
     "name": "stdout",
     "output_type": "stream",
     "text": [
      "[0 1 2 3 4]\n",
      "[0.99207417 0.97620005 0.29564798 0.65123405 0.0314773 ]\n",
      "0\n",
      "0.9920741650961162\n",
      "1\n",
      "0.976200051748395\n",
      "2\n",
      "0.2956479831950566\n",
      "3\n",
      "0.6512340532561474\n",
      "4\n",
      "0.03147729509109387\n"
     ]
    }
   ],
   "source": [
    "X = np.arange(5)\n",
    "print(X)\n",
    "\n",
    "rand_vector = np.random.rand(5)\n",
    "print(rand_vector)\n",
    "\n",
    "for x in X:\n",
    "    print(x)\n",
    "    print(rand_vector[x])"
   ]
  },
  {
   "cell_type": "markdown",
   "metadata": {},
   "source": [
    "* Create a vector of ascending numbers (as above). Use a for loop to print the square and square root of each of the numbers.\n"
   ]
  },
  {
   "cell_type": "code",
   "execution_count": 50,
   "metadata": {},
   "outputs": [
    {
     "name": "stdout",
     "output_type": "stream",
     "text": [
      "1\n",
      "2\n",
      "3\n",
      "4\n"
     ]
    }
   ],
   "source": [
    "X = np.arange(5)\n",
    "\n",
    "for x in X:\n",
    "    print(x**2, x**0.5)"
   ]
  },
  {
   "cell_type": "markdown",
   "metadata": {},
   "source": [
    "* Create a vector of random numbers (between 0 and 1). Use an ```if``` statement _inside_ a ```for``` loop to iterate through the vector and print any numbers over 0.5."
   ]
  },
  {
   "cell_type": "code",
   "execution_count": 53,
   "metadata": {},
   "outputs": [
    {
     "name": "stdout",
     "output_type": "stream",
     "text": [
      "0.9508364787476099\n",
      "0.8710506792581874\n",
      "0.5315700968480959\n",
      "0.6027529283857919\n"
     ]
    }
   ],
   "source": [
    "X = np.random.rand(5)\n",
    "\n",
    "for x in X:\n",
    "    if x > 0.5:\n",
    "        print(x)"
   ]
  },
  {
   "cell_type": "markdown",
   "metadata": {},
   "source": [
    "* Create a random vector of length 5. Use a for loop to replace every element in the vector with a 1 if the element is above 0.5 and 0 if the element is below 0.5. _Hint: begin the for loop with_ ```for i in np.arange(4):``` _and use ```i``` as an index for random vector."
   ]
  },
  {
   "cell_type": "code",
   "execution_count": 55,
   "metadata": {},
   "outputs": [],
   "source": [
    "X = np.random.rand(5)\n",
    "\n",
    "for i in np.arange(4):\n",
    "    # Replace values higher than 0.5\n",
    "    if X[i] > 0.5:\n",
    "        X[i] = 1\n",
    "    \n",
    "    # Replace values lower than 0.5\n",
    "    if X[i] < 0.5:\n",
    "        X[i] = 0"
   ]
  },
  {
   "cell_type": "markdown",
   "metadata": {},
   "source": [
    "#### Breaking a Loop\n",
    "\n",
    "In some cases, we want to break the ```for``` loop before it has completed all of its loops. To do this we can use the ```break``` statement. ```break``` is most commonly wrapped in an if statement.\n",
    "\n",
    "Have a look at the example below and see if you can edit it so that it breaks after the 4th loop."
   ]
  },
  {
   "cell_type": "code",
   "execution_count": 42,
   "metadata": {},
   "outputs": [
    {
     "name": "stdout",
     "output_type": "stream",
     "text": [
      "0 0\n",
      "1 1\n",
      "2 4\n",
      "3 9\n",
      "4 16\n",
      "5 25\n",
      "6 36\n",
      "7 49\n",
      "8 64\n",
      "9 81\n",
      "10 100\n"
     ]
    }
   ],
   "source": [
    "for i in np.arange(20):\n",
    "    print(i, i**2)\n",
    "    if i == 10:\n",
    "        break"
   ]
  },
  {
   "cell_type": "markdown",
   "metadata": {},
   "source": [
    "* Create a random vector of length 15.\n",
    "\n",
    "* Write a ```for``` loop which iterates through the vector and stops when it reaches a number greater than 0.8.\n",
    "\n",
    "* Print the number it stops at.\n",
    "\n",
    "* Run the program and see if it works.\n",
    "\n",
    "* Add a new variable ```n``` assigned value 0 before your loop starts.\n",
    "\n",
    "* Add 1 to n at the __end__ of every iteration.\n",
    "\n",
    "* Print ```n``` next to your number when the loop breaks. This tells you the index where your loop stopped.\n",
    "\n",
    "* Run a few times to make sure it's working. Use the value of ```n``` as an index for your random vector and verify that you get the same number. Why is it important that ```n``` increases at the end of the iteration and not the start?"
   ]
  },
  {
   "cell_type": "code",
   "execution_count": 78,
   "metadata": {},
   "outputs": [
    {
     "name": "stdout",
     "output_type": "stream",
     "text": [
      "1 0.815250317549785\n"
     ]
    }
   ],
   "source": [
    "X = np.random.rand(5)\n",
    "n = 0\n",
    "\n",
    "for x in X:\n",
    "    \n",
    "    if x>0.8:\n",
    "        print(n, x)\n",
    "        break\n",
    "        \n",
    "    n+=1 "
   ]
  },
  {
   "cell_type": "code",
   "execution_count": 80,
   "metadata": {},
   "outputs": [
    {
     "name": "stdout",
     "output_type": "stream",
     "text": [
      "0.815250317549785\n"
     ]
    }
   ],
   "source": [
    "print(X[n])"
   ]
  },
  {
   "cell_type": "markdown",
   "metadata": {},
   "source": [
    "If ```n``` increased at the start of every iteration, it would be 1 ahead of the index."
   ]
  },
  {
   "cell_type": "markdown",
   "metadata": {},
   "source": [
    "## Physics Recap"
   ]
  },
  {
   "cell_type": "markdown",
   "metadata": {},
   "source": [
    "Now we're ready for the fun bit! Let's apply the concepts we've learned to model some real Physics.\n",
    "\n",
    "Before we continue, let's make sure we remember the necessary Physics. You will need a pencil/pen and paper for this bit.\n",
    "\n",
    "* If we have N particles with each particle having a probability per second of decaying p, what is the rate of change of N (dN/dt)? \n",
    "* Why can't we simply integrate this equation (with respect to t)?\n",
    "* Solve this differential equation to find N as a function of time. (Just look up the answer at the end of this document if you haven't studied any differential equations yet).\n",
    "* Define the _half life_ of a radioactive sample.\n",
    "* Derive the half life &lambda; using the equation for N found earlier.\n",
    "\n",
    "There are answers and hints at the end of this document, but you should attempt this without them first."
   ]
  },
  {
   "cell_type": "markdown",
   "metadata": {},
   "source": [
    "## A Single Particle System"
   ]
  },
  {
   "cell_type": "markdown",
   "metadata": {},
   "source": [
    "Using the tools we have learned, we can now model a single radioactive particle. First we will attempt to model a single particle with _p_ = 0.1 as it evolves through time.\n",
    "\n",
    "Follow the instructions below to model the particle over a single second.\n",
    "\n",
    "* Create a 1x1 array labelled ```particle``` with a single entry (scalar) of 0.\n",
    "\n",
    "* Generate a random number between 0 and 1.\n",
    "\n",
    "* If the number is greater than _p_, add 1 to ```particle```.\n",
    "\n",
    "* If the value of ```particle``` is 1 then it has decayed, if it is 0 then it has not decayed."
   ]
  },
  {
   "cell_type": "code",
   "execution_count": 43,
   "metadata": {},
   "outputs": [],
   "source": [
    "particle = np.array([0]) # create array with a single zero representing a particle in state 0\n",
    "p = 0.1 # probability of decay\n",
    "\n",
    "if np.random.rand() < p: # if roll is greater than probability\n",
    "    particle  = particle + 1 # particle 'decays' to state 1"
   ]
  },
  {
   "cell_type": "markdown",
   "metadata": {},
   "source": [
    "We can then simulate the passage of time by using a for loop, with each loop representing a second passing for the particle. During each loop, the particle will thus have a probability _p_ of decaying.\n",
    "\n",
    "Follow the the instructions below to extend our model so that it allows for the passage of time.\n",
    "\n",
    "* Reassign ```particle``` to 0 in case it decayed when you ran the earlier ```if``` statement.\n",
    "\n",
    "* Set the probability of decay at 0.2.\n",
    "\n",
    "* Wrap your ```if``` statement inside a ```for``` loop with n=30 iterations. _Hint: use the ```np.arange()``` function._\n",
    "\n",
    "* At the end of each loop, print the number of loops completed and the ```particle``` array _on separate lines_.\n",
    "\n",
    "* Run your program and see what happens. Why does the computation happen so fast?\n",
    "\n",
    "* Add in ```time.sleep(1)``` at the end of your for loop so that the computer pauses for 1 second before executing the next loop.\n",
    "\n",
    "* Add ```clear_output(wait=True)``` at the end of your loop. This will clear the output every iteration and is only aesthetic to avoid a long list of outputs.\n",
    "\n",
    "* Run your program again. If we assume the particle we are modelling can only decay once, does it make physical sense for ```particle``` to have a value greater than one?\n",
    "\n",
    "* Use an if statement to terminate the ```for``` loop if the particle is already in state 1.\n",
    "\n",
    "* Run your program a few times, trying different values for ```p``` and n (number of iterations). Make sure that you aren't getting any errors and it behaves as you expect: \n",
    "    * ```for``` loop terminates when the particle decays\n",
    "    * Generally takes more (fewer) steps to decay when you decrease (increase) p\n",
    "    * End with a decayed particle in state 1 (or the loop has gotten to "
   ]
  },
  {
   "cell_type": "code",
   "execution_count": 44,
   "metadata": {},
   "outputs": [],
   "source": [
    "# this is just a function to clear the output\n",
    "from IPython.display import clear_output\n",
    "\n",
    "# package which allows us to delay the for loop (otherwise the loop would be executed almost instantaneously)\n",
    "import time"
   ]
  },
  {
   "cell_type": "code",
   "execution_count": 45,
   "metadata": {},
   "outputs": [
    {
     "name": "stdout",
     "output_type": "stream",
     "text": [
      "step 11\n",
      "[1]\n"
     ]
    }
   ],
   "source": [
    "particle = np.array([0]) # single particle in state 0\n",
    "p = 0.1 # probability of decay\n",
    "n = 30 # number of iterations\n",
    "\n",
    "for i in np.arange(n): # 30 time steps\n",
    "    \n",
    "    # 0.1 probability of executing the decay\n",
    "    if np.random.rand() < p:\n",
    "        particle = particle + 1    \n",
    "    \n",
    "    # print step number and state of particle\n",
    "    print('step', i)\n",
    "    print(particle)\n",
    "    \n",
    "    # pause for 1 second\n",
    "    time.sleep(1)\n",
    "    \n",
    "    # if the particle has decayed to state 1, stop the loop\n",
    "    if particle == 1:\n",
    "        break\n",
    "    \n",
    "    # clear the output\n",
    "    clear_output(wait=True)"
   ]
  },
  {
   "cell_type": "markdown",
   "metadata": {},
   "source": [
    "## Multiple Decay, Multi Particle System"
   ]
  },
  {
   "cell_type": "markdown",
   "metadata": {},
   "source": [
    "Now we are ready to add some more complicated elements to our model. First we will simulate a single particle decaying multiple times instead of one. Can you guess how we might represent this in our mathematical model before reading the next bit? Try and think about it before reading on. _Hint: state 0 represents and undecayed particle and state 1 represents the particle after 1 decay._"
   ]
  },
  {
   "cell_type": "markdown",
   "metadata": {},
   "source": [
    "To represent a multi particle decay we will use the number 2 represent the next decayed state:\n",
    "\n",
    "* How many decays are there in this new system?\n",
    "\n",
    "* Copy over all the code from your previous model with only one decay into the following cell\n",
    "\n",
    "* Since we have two decays, we will need 2 probabilities (one for each decay). Replace the single probability ```p``` with ```p1``` and ```p2```; you may choose any reasonable values you wish.\n",
    "\n",
    "* Create a second ```if``` statement to represent the second decay of the particle. __Be careful__ - you will need an if statement inside an if statement to make sure the second decay can only happen if the particle is already in state 1.\n",
    "\n",
    "* Change the if statement that breaks the for loop to allow for state 2 to exist."
   ]
  },
  {
   "cell_type": "code",
   "execution_count": 46,
   "metadata": {},
   "outputs": [
    {
     "name": "stdout",
     "output_type": "stream",
     "text": [
      "step 5\n",
      "[2]\n"
     ]
    }
   ],
   "source": [
    "particle = np.array([0]) # single particle in state 0\n",
    "\n",
    "# probabilities of decay\n",
    "p1 = 0.1\n",
    "p2 = 0.2\n",
    "\n",
    "n = 30 # number of iterations\n",
    "\n",
    "for i in np.arange(n): # 30 time steps\n",
    "    \n",
    "    # 0.1 probability of executing the decay\n",
    "    if np.random.rand() < p1:\n",
    "        particle = particle + 1\n",
    "    \n",
    "    # second decay\n",
    "    if particle == 1: # only allow decay if already in state 1\n",
    "        if np.random.rand() < p2:\n",
    "            particle = particle + 1\n",
    "    \n",
    "    # print step number and state of particle\n",
    "    print('step', i)\n",
    "    print(particle)\n",
    "    \n",
    "    # pause for 1 second\n",
    "    time.sleep(1)\n",
    "    \n",
    "    # if the particle has decayed to state 1, stop the loop\n",
    "    if particle == 2:\n",
    "        break\n",
    "    \n",
    "    # clear the output\n",
    "    clear_output(wait=True)"
   ]
  }
 ],
 "metadata": {
  "kernelspec": {
   "display_name": "Python 3",
   "language": "python",
   "name": "python3"
  },
  "language_info": {
   "codemirror_mode": {
    "name": "ipython",
    "version": 3
   },
   "file_extension": ".py",
   "mimetype": "text/x-python",
   "name": "python",
   "nbconvert_exporter": "python",
   "pygments_lexer": "ipython3",
   "version": "3.8.2"
  }
 },
 "nbformat": 4,
 "nbformat_minor": 2
}
