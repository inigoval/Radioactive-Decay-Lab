{
 "cells": [
  {
   "cell_type": "markdown",
   "metadata": {},
   "source": [
    "# Modelling Radioactive Decay Using Python 3\n",
    "\n",
    "In this lab, we will be using the programming language Python 3 to create a model simulating the radioactive decay of a number of particles over time.\n",
    "\n",
    "In order to complete this lab you should be comfortable with exponential decay and half lives. You must have come across vectors and matrices before (although no in depth knowledge is required). __No previous programming knowledge is required__. This excercise aims to be self contained so you should be able to jump right in without any prior reading. You are however encouraged to use google as you go through the excercises to help you understand/find syntax. \n",
    "\n",
    "We will mainly be using the [NumPy](http://www.numpy.org/) _package_ which provides a powerful framework for numerical computations in Python. We will also use the MatPlotLib and seaborn to visualise our results.\n",
    "\n",
    "All excercises _without_ asterisks should be completed; tasks _with_ asterisks are extensiosn and are usually more exploratory."
   ]
  },
  {
   "cell_type": "markdown",
   "metadata": {},
   "source": [
    "## Beginner Programming in Python"
   ]
  },
  {
   "cell_type": "markdown",
   "metadata": {},
   "source": [
    "Before getting started, it's necessary to install the necessary software onto your computer. It is different for every operating system (Linux/Windows/Mac) so a guide is not provided here. You should use Google to install Python3, Numpy . Anaconda is a convenient way of installing all the necessary packages at once, but it does take up a lot of memory with packages we won't be using."
   ]
  },
  {
   "cell_type": "code",
   "execution_count": 2,
   "metadata": {},
   "outputs": [],
   "source": [
    "# This is a comment. It is NOT executed by the computer and is there to annotate the code, making it easier to read.\n",
    "# Commenting is encouraged and will help you and other people understand your code. Comments are denoted by beginning\n",
    "# the line with a hash (#)."
   ]
  },
  {
   "cell_type": "markdown",
   "metadata": {},
   "source": [
    "First we need to tell the computer to load NumPy so that we can use it in our code.\n",
    "\n",
    "In order to run the import code (or any code in a given _cell_), select the cell by clicking on it. Hold shift and press enter. If you get an error, you haven't installed NumPy correctly.\n",
    "\n",
    "The second part of the import ('as np') simply saves us time by allowing us to type 'np' instead of 'numpy' every time we wish to use something from the NumPy package."
   ]
  },
  {
   "cell_type": "code",
   "execution_count": 3,
   "metadata": {},
   "outputs": [],
   "source": [
    "import numpy as np"
   ]
  },
  {
   "cell_type": "markdown",
   "metadata": {},
   "source": [
    "The print function is a fundamental part of Python and it prints an object to the console."
   ]
  },
  {
   "cell_type": "code",
   "execution_count": 4,
   "metadata": {},
   "outputs": [
    {
     "name": "stdout",
     "output_type": "stream",
     "text": [
      "3\n"
     ]
    }
   ],
   "source": [
    "print(3)"
   ]
  },
  {
   "cell_type": "markdown",
   "metadata": {},
   "source": [
    "Basic mathematical operations do not require Python. A table of symbols follows: <br/>\n",
    "\n",
    "multiply         ```*```   <br/>\n",
    "divide           ```/```   <br/>\n",
    "add              ```+```    <br/>\n",
    "subtract         ```-```    <br/>\n",
    "to the power of  ```**``` <br/>\n",
    "\n",
    "Brackets work as normal.\n",
    "\n",
    "Use this information to print :\n",
    "* Square root of 2\n",
    "* Radius of a circle of perimeter 5 (use any reasonable estimate for pi)"
   ]
  },
  {
   "cell_type": "code",
   "execution_count": 5,
   "metadata": {},
   "outputs": [
    {
     "name": "stdout",
     "output_type": "stream",
     "text": [
      "1.4142135623730951\n",
      "0.7961783439490445\n"
     ]
    }
   ],
   "source": [
    "print(2**0.5)\n",
    "print(5/(2*3.14))"
   ]
  },
  {
   "cell_type": "markdown",
   "metadata": {},
   "source": [
    "## Using NumPy"
   ]
  },
  {
   "cell_type": "markdown",
   "metadata": {},
   "source": [
    "Single numbers are not hugely useful. Numpy uses vectors and matrices to carry out computations on lots of numbers at once. A single number is simply a 1x1 vector. In NumPy, all 3 of these are grouped together and called _arrays_. The words array/vector/matrix will all be used interchangeably depending on context to aid your understanding.\n",
    "\n",
    "The simplest way of creating an array is by just typing it out. You can use any _element_ of the vector by using the _index_ of the element. __Indices always start at 0 not 1!__."
   ]
  },
  {
   "cell_type": "code",
   "execution_count": 6,
   "metadata": {},
   "outputs": [
    {
     "name": "stdout",
     "output_type": "stream",
     "text": [
      "2\n"
     ]
    }
   ],
   "source": [
    "# Creating a 3D vector \n",
    "vector = np.array([10, 2, 5])\n",
    "\n",
    "# Printing the 2nd element of the vector\n",
    "print(vector[1])"
   ]
  },
  {
   "cell_type": "markdown",
   "metadata": {},
   "source": [
    "There are many, many functions in NumPy so you can (mostly) avoid manually typing out arrays. For example the arange function creates an ascending vector up to the specified __index__ (remember this starts at 0!)."
   ]
  },
  {
   "cell_type": "code",
   "execution_count": 7,
   "metadata": {},
   "outputs": [
    {
     "name": "stdout",
     "output_type": "stream",
     "text": [
      "[0 1 2 3 4 5 6 7 8 9]\n"
     ]
    }
   ],
   "source": [
    "vector_2 = np.arange(10)\n",
    "print(vector_2)"
   ]
  },
  {
   "cell_type": "markdown",
   "metadata": {},
   "source": [
    "np.random.rand(n,m) is another very useful function. It creates an array of numbers randomised between 0 and 1. The array is size nxm (so if m>1 it will be a matrix). If you only want a vector you don't have to specify the second dimension as being 1."
   ]
  },
  {
   "cell_type": "code",
   "execution_count": 8,
   "metadata": {},
   "outputs": [
    {
     "name": "stdout",
     "output_type": "stream",
     "text": [
      "[0.09202732 0.01722845 0.91038914 0.47039255 0.52188742]\n"
     ]
    }
   ],
   "source": [
    "print(np.random.rand(5))"
   ]
  },
  {
   "cell_type": "markdown",
   "metadata": {},
   "source": [
    "Arrays are, by default, multiplied together __element-wise__ unlike in conventional mathematics. Every number in the 1st matrix is multiplied by the number occupying the same position in the 2nd matrix. Division works in the same way. This means the shape of both arrays _must_ be the same. You can use the same operators as usual (* and /).\n",
    "\n",
    "Numpy also has functions that can do various other operations (dot product, cross product, regular matrix multiplication etc.) but we will not require these.\n",
    "\n",
    "* Create a random matrix with 3 columns and 5 rows\n",
    "* Multiply it by another random matrix (with different values) and print the result\n",
    "* What is the maximum possible value any element in the resulting matrix can have and why? Is this a likely result?\n",
    "* *Calculate the likelihood of this occuring in the given case."
   ]
  },
  {
   "cell_type": "code",
   "execution_count": 9,
   "metadata": {},
   "outputs": [
    {
     "name": "stdout",
     "output_type": "stream",
     "text": [
      "[[0.14197116 0.21843731 0.19015108 0.30311552 0.0312438 ]\n",
      " [0.44014304 0.14838035 0.11910864 0.07173054 0.26914339]\n",
      " [0.2363724  0.00287435 0.011613   0.32413648 0.34026971]]\n"
     ]
    }
   ],
   "source": [
    "matrix_1 = np.random.rand(3,5)\n",
    "matrix_2 = np.random.rand(3,5)\n",
    "matrix_3 = matrix_2*matrix_1\n",
    "\n",
    "print(matrix_3)"
   ]
  },
  {
   "cell_type": "markdown",
   "metadata": {},
   "source": [
    "## Further Programming in Python"
   ]
  },
  {
   "cell_type": "markdown",
   "metadata": {},
   "source": [
    "### If Statements"
   ]
  },
  {
   "cell_type": "markdown",
   "metadata": {},
   "source": [
    "'If' statements in Python are similar to how we use them in natural language. The basic framework goes as follows:\n",
    "\n",
    "if X is a true statement then do Y\n",
    "\n",
    "However, when we are coding, instead of using words we use symbols: <br/>\n",
    "equal to       ```==``` <br/>\n",
    "not equal to   ```!=```` <br/>\n",
    "less than      ```<``` <br/>\n",
    "more than      ```>``` <br/>\n",
    "\n",
    "These symboles evaluate the given statement and return ```True``` or ```False```.\n",
    "\n",
    "We also need to include a colon after our if statement and indent the next line, so that the program knows where the if statement begins and ends."
   ]
  },
  {
   "cell_type": "code",
   "execution_count": 10,
   "metadata": {},
   "outputs": [
    {
     "name": "stdout",
     "output_type": "stream",
     "text": [
      "False\n",
      "True\n",
      "5 is greater than 0\n"
     ]
    }
   ],
   "source": [
    "print(5 < 3)\n",
    "print(5==5)\n",
    "\n",
    "if 5>0:\n",
    "    print('5 is greater than 0')"
   ]
  },
  {
   "cell_type": "markdown",
   "metadata": {},
   "source": [
    "### For Loops"
   ]
  },
  {
   "cell_type": "markdown",
   "metadata": {},
   "source": [
    "The last key ingredient of programming in any language is the for loop. It allows us to run a segment of code an arbitrary number of times (most of the time on different inputs). The power of this iterative way of approaching a problem is the often the reason we turn to a computer in the first place. The framework is as follows:\n",
    "\n",
    "for x in X\n",
    "do y to x\n",
    "\n",
    "where x (scalar) is an element of X (a vector) and y is some action on x\n",
    "\n",
    "This will be much clearer with an example:"
   ]
  },
  {
   "cell_type": "code",
   "execution_count": 15,
   "metadata": {},
   "outputs": [
    {
     "name": "stdout",
     "output_type": "stream",
     "text": [
      "[0 1 2 3 4]\n",
      "[0.29310685 0.20436601 0.15879607 0.42302506 0.96595981]\n",
      "0 0.29310684697908973\n",
      "1 0.20436600622852275\n",
      "2 0.15879607204363\n",
      "3 0.42302506281693175\n",
      "4 0.9659598143483589\n"
     ]
    }
   ],
   "source": [
    "ascending_vector = np.arange(5)\n",
    "print(ascending_vector)\n",
    "\n",
    "rand_vector = np.random.rand(5)\n",
    "print(rand_vector)\n",
    "\n",
    "for i in ascending_vector:\n",
    "    print(i, rand_vector[i])"
   ]
  },
  {
   "cell_type": "markdown",
   "metadata": {},
   "source": [
    "#### Excercises:\n",
    "\n",
    "* Create a vector of ascending numbers (as above). Use a for loop to print the square and square root of each of the numbers.\n",
    "\n",
    "* Manually create a vector of length 5 with any values you choose. Use a for loop to add 10 to every element in the vector. _Hint: begin the for loop with_ ```for i in np.arange(4):``` _and use ```i``` as an index for the vector you've manually written out_.\n",
    "\n",
    "* Create a vector of random numbers (between 0 and 1). Use an if statement _inside_ a for loop to iterate through the vector and print any numbers over 0.5.\n",
    "\n",
    "* "
   ]
  },
  {
   "cell_type": "markdown",
   "metadata": {},
   "source": [
    "## Physics Recap"
   ]
  },
  {
   "cell_type": "markdown",
   "metadata": {},
   "source": [
    "Before we continue, let's make sure we remember the Physics necessary to model radioactive decay. You will need a pencil/pen and paper for this bit.\n",
    "\n",
    "* If we have N particles with each particle having a probability per second of decaying p, what is the rate of change of N (dN/dt)? \n",
    "* Why can't we simply integrate this equation (with respect to t)?\n",
    "* Solve this differential equation to find N as a function of time. (Just look up the answer at the end of this document if you haven't studied any differential equations yet).\n",
    "* Define the _half life_ of a radioactive sample.\n",
    "* Derive the half life &lambda; using the equation for N found earlier.\n",
    "\n",
    "There are answers and hints at the end of this document, but you should attempt this without them first."
   ]
  },
  {
   "cell_type": "markdown",
   "metadata": {},
   "source": [
    "## A Single Particle System"
   ]
  },
  {
   "cell_type": "markdown",
   "metadata": {},
   "source": [
    "Using the tools we have learned, we can now model a single radioactive particle. First we will attempt to model a single particle with _p_ = 0.1 as it evolves through time.\n",
    "\n",
    "* Create an array labelled 'particle' with a single entry (scalar) of 0.\n",
    "\n",
    "* Generate a random number between 0 and 1.\n",
    "\n",
    "* If the number is greater than _p_, add 1 to particle."
   ]
  },
  {
   "cell_type": "code",
   "execution_count": 16,
   "metadata": {},
   "outputs": [],
   "source": [
    "particle = np.array([0])\n",
    "p = 0.1\n",
    "\n",
    "if np.random.rand() > p:\n",
    "    particle  = particle + 1"
   ]
  },
  {
   "cell_type": "code",
   "execution_count": null,
   "metadata": {},
   "outputs": [],
   "source": []
  }
 ],
 "metadata": {
  "kernelspec": {
   "display_name": "Python 3",
   "language": "python",
   "name": "python3"
  },
  "language_info": {
   "codemirror_mode": {
    "name": "ipython",
    "version": 3
   },
   "file_extension": ".py",
   "mimetype": "text/x-python",
   "name": "python",
   "nbconvert_exporter": "python",
   "pygments_lexer": "ipython3",
   "version": "3.6.6"
  }
 },
 "nbformat": 4,
 "nbformat_minor": 2
}
