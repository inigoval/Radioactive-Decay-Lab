{
 "cells": [
  {
   "cell_type": "markdown",
   "metadata": {},
   "source": [
    "# Modelling Radioactive Decay\n",
    "\n",
    "In this lab, we will be using the programming language Python 3 to create a model simulating the radioactive decay of a number of particles over time.\n",
    "\n",
    "In order to complete this lab you should be comfortable with exponential decay and half lives. You must have come across vectors and matrices before (although no in depth knowledge is required). __No previous programming knowledge is required__. This excercise aims to be self contained so you should be able to jump right in without any prior reading. You are however encouraged to use google as you go through the excercises to help you understand/find syntax. \n",
    "\n",
    "We will mainly be using the [NumPy](http://www.numpy.org/) _package_ which provides a powerful framework for numerical computations in Python. We will also use the MatPlotLib and seaborn to visualise our results.\n",
    "\n",
    "All excercises _without_ asterisks should be completed; tasks _with_ asterisks are extensiosn and are usually more exploratory."
   ]
  },
  {
   "cell_type": "code",
   "execution_count": 5,
   "metadata": {},
   "outputs": [],
   "source": [
    "# This is a comment. It is NOT executed by the computer and is there to annotate the code, making it easier to read.\n",
    "# Commenting is encouraged and will help you and other people understand your code. Comments are denoted by beginning\n",
    "# the line with a hash (#)."
   ]
  },
  {
   "cell_type": "markdown",
   "metadata": {},
   "source": [
    "First we need to tell the computer to load NumPy so that we can use it in our code.\n",
    "\n",
    "In order to run the import command (or any command in a given _cell_), select the cell by clicking on it. Hold shift and press enter. If you get an error, you haven't installed NumPy correctly.\n",
    "\n",
    "The second part of the import ('as np') simply saves us time by allowing us to type 'np' instead of 'numpy' every time we wish to use something from the NumPy package."
   ]
  },
  {
   "cell_type": "code",
   "execution_count": 11,
   "metadata": {},
   "outputs": [],
   "source": [
    "import numpy as np"
   ]
  },
  {
   "cell_type": "markdown",
   "metadata": {},
   "source": [
    "The print function is a fundamental part of Python and it prints an object to the console."
   ]
  },
  {
   "cell_type": "code",
   "execution_count": 8,
   "metadata": {},
   "outputs": [
    {
     "name": "stdout",
     "output_type": "stream",
     "text": [
      "3\n"
     ]
    }
   ],
   "source": [
    "print(3)"
   ]
  },
  {
   "cell_type": "markdown",
   "metadata": {},
   "source": [
    "Basic mathematical operations do not require Python. A table of symbols follows: <br/>\n",
    "\n",
    "multiply         *   <br/>\n",
    "divide           /   <br/>\n",
    "add              +    <br/>\n",
    "subtract         -    <br/>\n",
    "to the power of  ** <br/>\n",
    "\n",
    "Brackets work as normal.\n",
    "\n",
    "Use this information to print :\n",
    "* Square root of 2\n",
    "* Radius of a circle of perimeter 5 (use any reasonable estimate for pi)"
   ]
  },
  {
   "cell_type": "code",
   "execution_count": 10,
   "metadata": {},
   "outputs": [
    {
     "name": "stdout",
     "output_type": "stream",
     "text": [
      "1.4142135623730951\n",
      "0.7961783439490445\n"
     ]
    }
   ],
   "source": [
    "print(2**0.5)\n",
    "print(5/(2*3.14))"
   ]
  },
  {
   "cell_type": "markdown",
   "metadata": {},
   "source": [
    "However, single numbers are not hugely useful. Numpy uses vectors and matrices to carry out computations on lots of numbers at once. A single number is simply a 1x1 vector. In NumPy, all 3 of these are grouped together and called _arrays_. \n",
    "\n",
    "The simplest way of creating an array is by just typing it out. You can use any _element_ of the vector by using the _index_ of the element. __Indices always start at 0 not 1!__."
   ]
  },
  {
   "cell_type": "code",
   "execution_count": 15,
   "metadata": {},
   "outputs": [
    {
     "name": "stdout",
     "output_type": "stream",
     "text": [
      "2\n"
     ]
    }
   ],
   "source": [
    "# Creating a 3D vector \n",
    "vector = np.array([10, 2, 5])\n",
    "\n",
    "# Printing the 2nd element of the vector\n",
    "print(vector[1])"
   ]
  },
  {
   "cell_type": "markdown",
   "metadata": {},
   "source": [
    "There are many, many functions in NumPy so you can completely avoid manually typing out vectors. For example the arange function creates an ascending vector up to the specified __index__ (remember this starts at 0!)."
   ]
  },
  {
   "cell_type": "code",
   "execution_count": 16,
   "metadata": {},
   "outputs": [
    {
     "name": "stdout",
     "output_type": "stream",
     "text": [
      "[0 1 2 3 4 5 6 7 8 9]\n"
     ]
    }
   ],
   "source": [
    "print(np.arange(10))"
   ]
  },
  {
   "cell_type": "code",
   "execution_count": null,
   "metadata": {},
   "outputs": [],
   "source": []
  }
 ],
 "metadata": {
  "kernelspec": {
   "display_name": "Python 3",
   "language": "python",
   "name": "python3"
  },
  "language_info": {
   "codemirror_mode": {
    "name": "ipython",
    "version": 3
   },
   "file_extension": ".py",
   "mimetype": "text/x-python",
   "name": "python",
   "nbconvert_exporter": "python",
   "pygments_lexer": "ipython3",
   "version": "3.6.6"
  }
 },
 "nbformat": 4,
 "nbformat_minor": 2
}
